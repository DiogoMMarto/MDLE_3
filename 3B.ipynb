{
 "cells": [
  {
   "cell_type": "code",
   "execution_count": 137,
   "id": "cbf15282",
   "metadata": {},
   "outputs": [],
   "source": [
    "# import pyspark\n",
    "from pyspark.sql import SparkSession , DataFrame\n",
    "from pyspark.ml.linalg import SparseVector , VectorUDT\n",
    "from pyspark.sql.functions import col, collect_list, struct , udf , avg\n",
    "from pyspark.sql.types import FloatType\n",
    "import collections\n",
    "import os"
   ]
  },
  {
   "cell_type": "code",
   "execution_count": 138,
   "id": "2935eba0",
   "metadata": {},
   "outputs": [
    {
     "name": "stdout",
     "output_type": "stream",
     "text": [
      "C:\\Program Files\\Eclipse Adoptium\\jdk-11.0.27.6-hotspot\\\n"
     ]
    }
   ],
   "source": [
    "# I need this to run comment this code if you don't need it\n",
    "os.environ['PYSPARK_PYTHON'] = '.venv/Scripts/python.exe'\n",
    "os.environ['PYSPARK_DRIVER_PYTHON'] = '.venv/Scripts/python.exe'\n",
    "print(os.environ.get(\"JAVA_HOME\"))"
   ]
  },
  {
   "cell_type": "code",
   "execution_count": 139,
   "id": "7966a21a",
   "metadata": {},
   "outputs": [],
   "source": [
    "spark: SparkSession = SparkSession.builder \\\n",
    "    .appName(\"CF movielens\") \\\n",
    "    .getOrCreate()"
   ]
  },
  {
   "cell_type": "code",
   "execution_count": 140,
   "id": "4cd97957",
   "metadata": {},
   "outputs": [
    {
     "name": "stdout",
     "output_type": "stream",
     "text": [
      "Number of ratings: 100836\n",
      "+------+-------+------+\n",
      "|userId|movieId|rating|\n",
      "+------+-------+------+\n",
      "|     1|      1|   4.0|\n",
      "|     1|      3|   4.0|\n",
      "|     1|      6|   4.0|\n",
      "|     1|     47|   5.0|\n",
      "|     1|     50|   5.0|\n",
      "+------+-------+------+\n",
      "only showing top 5 rows\n",
      "\n"
     ]
    }
   ],
   "source": [
    "file_path = \"ml-latest-small/ml-latest-small/ratings.csv\"\n",
    "ratings_df = spark.read.csv(file_path, header=True, inferSchema=True) \\\n",
    "    .drop(\"timestamp\")\n",
    "print(\"Number of ratings:\", ratings_df.count())\n",
    "ratings_df.show(5)"
   ]
  },
  {
   "cell_type": "code",
   "execution_count": 141,
   "id": "57ea1840",
   "metadata": {},
   "outputs": [
    {
     "name": "stdout",
     "output_type": "stream",
     "text": [
      "Number of training ratings: 90673\n"
     ]
    }
   ],
   "source": [
    "train_df, test_df = ratings_df.randomSplit([0.9, 0.1], seed=42)\n",
    "print(\"Number of training ratings:\", train_df.count())"
   ]
  },
  {
   "cell_type": "code",
   "execution_count": 142,
   "id": "1b12f65e",
   "metadata": {},
   "outputs": [
    {
     "name": "stdout",
     "output_type": "stream",
     "text": [
      "Average rating in training set: 3.503325135376573\n",
      "+------+---------------------+\n",
      "|userId|rating_deviation_user|\n",
      "+------+---------------------+\n",
      "|   148|  0.23417486462342696|\n",
      "|   463|   0.3932265887613582|\n",
      "|   471|   0.4057657737143363|\n",
      "|   496| -0.15147328352472123|\n",
      "|   243|    0.610960578909141|\n",
      "+------+---------------------+\n",
      "only showing top 5 rows\n",
      "\n",
      "+-------+----------------------+\n",
      "|movieId|rating_deviation_movie|\n",
      "+-------+----------------------+\n",
      "|   1580|  -0.02144107740555823|\n",
      "|   2366|   0.13667486462342726|\n",
      "|   3175|   0.08363138636255751|\n",
      "|  32460|    0.7466748646234271|\n",
      "|   1238|    0.5522304201789825|\n",
      "+-------+----------------------+\n",
      "only showing top 5 rows\n",
      "\n",
      "+------+-------+---------------+\n",
      "|userId|movieId|baseline_rating|\n",
      "+------+-------+---------------+\n",
      "|     1|      1|      4.7871666|\n",
      "|     1|      3|      4.1031566|\n",
      "|     1|      6|       4.805284|\n",
      "|     1|     47|      4.8449597|\n",
      "|     1|     50|      5.1087117|\n",
      "+------+-------+---------------+\n",
      "only showing top 5 rows\n",
      "\n"
     ]
    }
   ],
   "source": [
    "avg_rating = train_df.agg({\"rating\": \"avg\"}).collect()[0][0]\n",
    "print(\"Average rating in training set:\", avg_rating)\n",
    "# (avg rating of user x ) - μ\n",
    "rating_deviation_of_user = train_df.groupBy(\"userId\") \\\n",
    "    .agg(avg(\"rating\").alias(\"avg_rating\")) \\\n",
    "    .withColumn(\"rating_deviation_user\", col(\"avg_rating\") - avg_rating) \\\n",
    "    .select(\"userId\", \"rating_deviation_user\")\n",
    "rating_deviation_of_user.show(5)\n",
    "rating_deviation_of_movie = train_df.groupBy(\"movieId\") \\\n",
    "    .agg(avg(\"rating\").alias(\"avg_rating\")) \\\n",
    "    .withColumn(\"rating_deviation_movie\", col(\"avg_rating\") - avg_rating) \\\n",
    "    .select(\"movieId\", \"rating_deviation_movie\")\n",
    "rating_deviation_of_movie.show(5)\n",
    "\n",
    "rating_deviation_of_user_dict = rating_deviation_of_user.rdd \\\n",
    "    .map(lambda row: (row.userId, row.rating_deviation_user)) \\\n",
    "    .collectAsMap()\n",
    "rating_deviation_of_movie_dict = rating_deviation_of_movie.rdd \\\n",
    "    .map(lambda row: (row.movieId, row.rating_deviation_movie)) \\\n",
    "    .collectAsMap()\n",
    "@udf(returnType=FloatType())\n",
    "def calculate_baseline_rating(userId, movieId):\n",
    "    user_deviation = rating_deviation_of_user_dict.get(userId, 0.0)\n",
    "    movie_deviation = rating_deviation_of_movie_dict.get(movieId, 0.0)\n",
    "    return avg_rating + user_deviation + movie_deviation\n",
    "\n",
    "train_df = train_df.withColumn(\n",
    "    \"baseline_rating\",\n",
    "    calculate_baseline_rating(col(\"userId\"), col(\"movieId\"))\n",
    ")\n",
    "train_df.select(\"userId\", \"movieId\", \"baseline_rating\").show(5)\n"
   ]
  },
  {
   "cell_type": "code",
   "execution_count": 143,
   "id": "a5fba961",
   "metadata": {},
   "outputs": [
    {
     "name": "stdout",
     "output_type": "stream",
     "text": [
      "+------+-------+------+\n",
      "|userId|movieId|rating|\n",
      "+------+-------+------+\n",
      "|     1|    101|   5.0|\n",
      "|     1|    151|   5.0|\n",
      "|     1|    943|   4.0|\n",
      "|     1|   1031|   5.0|\n",
      "|     1|   1220|   5.0|\n",
      "+------+-------+------+\n",
      "only showing top 5 rows\n",
      "\n"
     ]
    }
   ],
   "source": [
    "test_df.show(5)"
   ]
  },
  {
   "cell_type": "code",
   "execution_count": 144,
   "id": "af392025",
   "metadata": {},
   "outputs": [
    {
     "name": "stdout",
     "output_type": "stream",
     "text": [
      "RMSE of baseline model: 0.9062214757366772\n"
     ]
    }
   ],
   "source": [
    "# calculate RMSE\n",
    "def calculate_rmse(predictions):\n",
    "    predictions = predictions.withColumnRenamed(\"rating\", \"actual_rating\")\n",
    "    predictions = predictions.withColumnRenamed(\"predicted_rating\", \"predicted_rating\")\n",
    "    rmse = predictions.withColumn(\n",
    "        \"squared_error\",\n",
    "        (col(\"actual_rating\") - col(\"predicted_rating\")) ** 2\n",
    "    ).agg({\"squared_error\": \"avg\"}).collect()[0][0] ** 0.5\n",
    "    return rmse\n",
    "\n",
    "predicted_ratings_df = test_df.withColumn(\n",
    "    \"predicted_rating\",\n",
    "    calculate_baseline_rating(col(\"userId\"), col(\"movieId\"))\n",
    ")\n",
    "rmse = calculate_rmse(predicted_ratings_df)\n",
    "print(\"RMSE of baseline model:\", rmse)"
   ]
  },
  {
   "cell_type": "code",
   "execution_count": 145,
   "id": "bf077287",
   "metadata": {},
   "outputs": [
    {
     "name": "stdout",
     "output_type": "stream",
     "text": [
      "+------+-------+--------------------+\n",
      "|userId|movieId|   normalized_rating|\n",
      "+------+-------+--------------------+\n",
      "|     1|      1| -0.7871665954589844|\n",
      "|     1|      3|-0.10315656661987305|\n",
      "|     1|      6| -0.8052840232849121|\n",
      "|     1|     47| 0.15504026412963867|\n",
      "|     1|     50|-0.10871171951293945|\n",
      "+------+-------+--------------------+\n",
      "only showing top 5 rows\n",
      "\n"
     ]
    }
   ],
   "source": [
    "train_norm_df = train_df.withColumn(\n",
    "    \"rating\",\n",
    "    col(\"rating\") - col(\"baseline_rating\")\n",
    ").withColumnRenamed(\"rating\", \"normalized_rating\") \\\n",
    ".select(\"userId\", \"movieId\", \"normalized_rating\")\n",
    "train_norm_df.show(5)\n"
   ]
  },
  {
   "cell_type": "code",
   "execution_count": 146,
   "id": "90b18281",
   "metadata": {},
   "outputs": [
    {
     "name": "stdout",
     "output_type": "stream",
     "text": [
      "+-------+--------------------+\n",
      "|movieId|      ratings_vector|\n",
      "+-------+--------------------+\n",
      "|      1|(611,[1,5,7,17,18...|\n",
      "|      2|(611,[6,8,18,19,2...|\n",
      "|      3|(611,[1,6,19,32,4...|\n",
      "|      4|(611,[6,14,84,262...|\n",
      "|      5|(611,[6,31,43,45,...|\n",
      "|      6|(611,[1,6,11,18,2...|\n",
      "|      7|(611,[6,14,19,31,...|\n",
      "|      8|(611,[6,20,43,274...|\n",
      "|      9|(611,[151,179,217...|\n",
      "|     10|(611,[6,8,11,19,2...|\n",
      "|     11|(611,[6,8,33,35,3...|\n",
      "|     12|(611,[19,44,120,1...|\n",
      "|     13|(611,[6,19,20,288...|\n",
      "|     14|(611,[90,109,182,...|\n",
      "|     15|(611,[6,19,93,136...|\n",
      "|     16|(611,[6,18,28,42,...|\n",
      "|     17|(611,[6,31,33,38,...|\n",
      "|     18|(611,[44,66,95,10...|\n",
      "|     19|(611,[6,14,21,40,...|\n",
      "|     20|(611,[78,199,217,...|\n",
      "+-------+--------------------+\n",
      "only showing top 20 rows\n",
      "\n"
     ]
    },
    {
     "data": {
      "text/plain": [
       "9358"
      ]
     },
     "execution_count": 146,
     "metadata": {},
     "output_type": "execute_result"
    }
   ],
   "source": [
    "last_user_id = train_df.select(\"userId\").agg({\"userId\": \"max\"}).collect()[0][0]\n",
    "\n",
    "@udf(returnType=VectorUDT())\n",
    "def build_sparse_vector(ratings):\n",
    "    user_rating_map = collections.OrderedDict(sorted([(r[0], r[1]) for r in ratings]))\n",
    "\n",
    "    user_ids = list(user_rating_map.keys())\n",
    "    values = list(user_rating_map.values())\n",
    "\n",
    "    return SparseVector(last_user_id+1, user_ids, values)\n",
    "\n",
    "sparse_vector_df = train_df.groupBy(\"movieId\") \\\n",
    "    .agg(collect_list(struct(\"userId\", \"rating\")).alias(\"ratings\")) \\\n",
    "    .select(\"movieId\", build_sparse_vector(col(\"ratings\")).alias(\"ratings_vector\"))\n",
    "sparse_vector_df.show()\n",
    "sparse_vector_df.count()"
   ]
  },
  {
   "cell_type": "code",
   "execution_count": 147,
   "id": "0aa360f0",
   "metadata": {},
   "outputs": [],
   "source": [
    "# cosine similarity function\n",
    "def cosine_similarity(vec1: SparseVector, vec2: SparseVector) -> float:\n",
    "    \"\"\"\n",
    "    Calculate the cosine similarity between two SparseVectors.\n",
    "    Values near 1 indicate high similarity, while values near 0 indicate low similarity.\n",
    "    \"\"\"\n",
    "    if vec1 is None or vec2 is None:\n",
    "        return None\n",
    "    dot_product = vec1.dot(vec2) # type: ignore\n",
    "    norm1 = vec1.norm(2)\n",
    "    norm2 = vec2.norm(2)\n",
    "    if norm1 == 0 or norm2 == 0:\n",
    "        return 0.0\n",
    "    return dot_product / (norm1 * norm2)\n"
   ]
  }
 ],
 "metadata": {
  "kernelspec": {
   "display_name": ".venv",
   "language": "python",
   "name": "python3"
  },
  "language_info": {
   "codemirror_mode": {
    "name": "ipython",
    "version": 3
   },
   "file_extension": ".py",
   "mimetype": "text/x-python",
   "name": "python",
   "nbconvert_exporter": "python",
   "pygments_lexer": "ipython3",
   "version": "3.10.11"
  }
 },
 "nbformat": 4,
 "nbformat_minor": 5
}
